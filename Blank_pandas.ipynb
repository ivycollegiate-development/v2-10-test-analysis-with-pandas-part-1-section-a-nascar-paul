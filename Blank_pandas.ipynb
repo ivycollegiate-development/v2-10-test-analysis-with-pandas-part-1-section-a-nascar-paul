{
 "cells": [
  {
   "cell_type": "code",
   "execution_count": 1,
   "metadata": {},
   "outputs": [
    {
     "ename": "NameError",
     "evalue": "name 'df' is not defined",
     "output_type": "error",
     "traceback": [
      "\u001b[0;31m---------------------------------------------------------------------------\u001b[0m",
      "\u001b[0;31mNameError\u001b[0m                                 Traceback (most recent call last)",
      "Cell \u001b[0;32mIn[1], line 2\u001b[0m\n\u001b[1;32m      1\u001b[0m \u001b[38;5;66;03m# Select a single column using square brackets\u001b[39;00m\n\u001b[0;32m----> 2\u001b[0m primary_answers \u001b[38;5;241m=\u001b[39m \u001b[43mdf\u001b[49m[\u001b[38;5;124m'\u001b[39m\u001b[38;5;124m# Pri. Ans.\u001b[39m\u001b[38;5;124m'\u001b[39m]\n\u001b[1;32m      3\u001b[0m \u001b[38;5;28mprint\u001b[39m(\u001b[38;5;124m\"\u001b[39m\u001b[38;5;124mPrimary answers column:\u001b[39m\u001b[38;5;124m\"\u001b[39m)\n\u001b[1;32m      4\u001b[0m \u001b[38;5;28mprint\u001b[39m(primary_answers\u001b[38;5;241m.\u001b[39mhead())  \u001b[38;5;66;03m# What does this show? _____\u001b[39;00m\n",
      "\u001b[0;31mNameError\u001b[0m: name 'df' is not defined"
     ]
    }
   ],
   "source": [
    "# Select a single column using square brackets\n",
    "primary_answers = df['# Pri. Ans.']\n",
    "print(\"Primary answers column:\")\n",
    "print(primary_answers.head())  # What does this show? _____\n",
    "\n",
    "# Select multiple columns using a list of column names\n",
    "selected_columns = df[['Primary Key A', '# Correct', '% Correct']]\n",
    "print(\"\\nSelected columns:\")\n",
    "print(selected_columns.head())  # What does this show? _____\n",
    "\n",
    "# Basic statistics for numeric columns\n",
    "numeric_stats = df['# Correct'].describe()\n",
    "print(\"\\nStatistics for # Correct:\")\n",
    "print(numeric_stats)  # List three statistics you see: _____, _____, _____"
   ]
  }
 ],
 "metadata": {
  "kernelspec": {
   "display_name": "Python 3",
   "language": "python",
   "name": "python3"
  },
  "language_info": {
   "codemirror_mode": {
    "name": "ipython",
    "version": 3
   },
   "file_extension": ".py",
   "mimetype": "text/x-python",
   "name": "python",
   "nbconvert_exporter": "python",
   "pygments_lexer": "ipython3",
   "version": "3.12.1"
  }
 },
 "nbformat": 4,
 "nbformat_minor": 2
}
