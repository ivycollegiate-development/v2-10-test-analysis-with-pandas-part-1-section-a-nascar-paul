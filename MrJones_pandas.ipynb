{
 "cells": [
  {
   "cell_type": "code",
   "execution_count": 1,
   "metadata": {},
   "outputs": [
    {
     "name": "stdout",
     "output_type": "stream",
     "text": [
      "First 5 rows:\n",
      "   Primary Key A # Pri. Ans.  # Correct % Correct  Discrim. Factor  \\\n",
      "0              1           B        3.0     23.1%           -0.000   \n",
      "1              2           C        5.0     38.5%            0.237   \n",
      "2              3           B        1.0      7.7%           -0.173   \n",
      "3              4           B        4.0     30.8%            0.425   \n",
      "4              5           A       11.0     84.6%            0.352   \n",
      "\n",
      "                 Responses  \n",
      "0         A:69% B:23% C:8%  \n",
      "1        C:38% A:38% B:23%  \n",
      "2    C:62% A:23% B:8% D:8%  \n",
      "3  B:31% A:31% D:23% C:15%  \n",
      "4              A:85% B:15%  \n",
      "\n",
      "DataFrame information:\n",
      "<class 'pandas.core.frame.DataFrame'>\n",
      "RangeIndex: 60 entries, 0 to 59\n",
      "Data columns (total 6 columns):\n",
      " #   Column           Non-Null Count  Dtype  \n",
      "---  ------           --------------  -----  \n",
      " 0   Primary Key A    60 non-null     int64  \n",
      " 1   # Pri. Ans.      60 non-null     object \n",
      " 2   # Correct        60 non-null     float64\n",
      " 3   % Correct        60 non-null     object \n",
      " 4   Discrim. Factor  59 non-null     float64\n",
      " 5   Responses        60 non-null     object \n",
      "dtypes: float64(2), int64(1), object(3)\n",
      "memory usage: 2.9+ KB\n",
      "None\n",
      "\n",
      "Summary statistics:\n",
      "       Primary Key A  # Correct  Discrim. Factor\n",
      "count      60.000000  60.000000        59.000000\n",
      "mean       30.500000   5.416667         0.258271\n",
      "std        17.464249   3.470416         0.289856\n",
      "min         1.000000   0.000000        -0.416000\n",
      "25%        15.750000   3.000000         0.065000\n",
      "50%        30.500000   5.000000         0.255000\n",
      "75%        45.250000   8.250000         0.472500\n",
      "max        60.000000  12.000000         0.712000\n"
     ]
    }
   ],
   "source": [
    "# pandas is a data manipulation library - we import it as pd by convention\n",
    "import pandas as pd\n",
    "\n",
    "# matplotlib is for creating visualizations - we import pyplot as plt by convention\n",
    "import matplotlib.pyplot as plt\n",
    "\n",
    "# read_csv() is a pandas function that loads data from a CSV file into a DataFrame\n",
    "df = pd.read_csv('Pandas_Lesson_Grades.csv')\n",
    "\n",
    "# Display first 5 rows\n",
    "print(\"First 5 rows:\")\n",
    "print(df.head())\n",
    "\n",
    "# Display basic information about the DataFrame\n",
    "print(\"\\nDataFrame information:\")\n",
    "print(df.info())\n",
    "\n",
    "# Display summary statistics\n",
    "print(\"\\nSummary statistics:\")\n",
    "print(df.describe())"
   ]
  }
 ],
 "metadata": {
  "kernelspec": {
   "display_name": "Python 3",
   "language": "python",
   "name": "python3"
  },
  "language_info": {
   "codemirror_mode": {
    "name": "ipython",
    "version": 3
   },
   "file_extension": ".py",
   "mimetype": "text/x-python",
   "name": "python",
   "nbconvert_exporter": "python",
   "pygments_lexer": "ipython3",
   "version": "3.12.1"
  }
 },
 "nbformat": 4,
 "nbformat_minor": 2
}
